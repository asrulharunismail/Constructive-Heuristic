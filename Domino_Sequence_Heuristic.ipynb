{
  "nbformat": 4,
  "nbformat_minor": 0,
  "metadata": {
    "colab": {
      "name": "Domino Sequence Heuristic.ipynb",
      "provenance": [],
      "authorship_tag": "ABX9TyMtl4QjOz0DIbNm71wNU3VV",
      "include_colab_link": true
    },
    "kernelspec": {
      "name": "python3",
      "display_name": "Python 3"
    }
  },
  "cells": [
    {
      "cell_type": "markdown",
      "metadata": {
        "id": "view-in-github",
        "colab_type": "text"
      },
      "source": [
        "<a href=\"https://colab.research.google.com/github/asrulharunismail/Constructive-Heuristic/blob/master/Domino_Sequence_Heuristic.ipynb\" target=\"_parent\"><img src=\"https://colab.research.google.com/assets/colab-badge.svg\" alt=\"Open In Colab\"/></a>"
      ]
    },
    {
      "cell_type": "code",
      "metadata": {
        "id": "4JJy2u1aiDHg",
        "colab_type": "code",
        "colab": {}
      },
      "source": [
        "import numpy as np\n",
        "import math\n",
        "import random"
      ],
      "execution_count": 1,
      "outputs": []
    },
    {
      "cell_type": "code",
      "metadata": {
        "id": "grdGyQhTslq9",
        "colab_type": "code",
        "colab": {}
      },
      "source": [
        "class Model:\n",
        "    def __init__(self,x,y):\n",
        "        self.x = x\n",
        "        self.y = y\n",
        "        self.n = len(x)\n",
        "    def Dis (self):\n",
        "        n = self.n\n",
        "        D = []\n",
        "        for i in range (n):\n",
        "            for j in range (n):\n",
        "                D.append(round(np.sqrt((x[i] - x[j]) ** 2 + (y[i] - y[j]) ** 2)))\n",
        "        D=np.array(D)\n",
        "        D=D.reshape(n,n)\n",
        "        return D"
      ],
      "execution_count": 2,
      "outputs": []
    },
    {
      "cell_type": "code",
      "metadata": {
        "id": "V9gMc548teem",
        "colab_type": "code",
        "colab": {}
      },
      "source": [
        "def Cost (tour,D):\n",
        "    L=0\n",
        "    for i in range (len(tour)):\n",
        "        if i< len(tour)-1:\n",
        "          L += D[tour[i],tour[i+1]]\n",
        "        else:\n",
        "          L += D[tour[i],tour[0]]\n",
        "    return L"
      ],
      "execution_count": 3,
      "outputs": []
    },
    {
      "cell_type": "code",
      "metadata": {
        "id": "jX73_nkRsWEz",
        "colab_type": "code",
        "colab": {}
      },
      "source": [
        "Prob = 'Eil51'\n",
        "x = [37, 49, 52, 20, 40, 21, 17, 31, 52, 51, 42, 31, 5, 12, 36, 52, 27, 17, 13, 57, 62, 42, 16, 8, 7, 27, 30, 43, 58, 58, 37, 38, 46, 61, 62, 63, 32, 45, 59, 5, 10, 21, 5, 30, 39, 32, 25, 25, 48, 56, 30]\n",
        "y = [52, 49, 64, 26, 30, 47, 63, 62, 33, 21, 41, 32, 25, 42, 16, 41, 23, 33, 13, 58, 42, 57, 57, 52, 38, 68, 48, 67, 48, 27, 69, 46, 10, 33, 63, 69, 22, 35, 15, 6, 17, 10, 64, 15, 10, 39, 32, 55, 28, 37, 40]\n",
        "BKS = 426\n",
        "Eil51 = Model(x,y)\n",
        "D=Eil51.Dis()\n",
        "n=Eil51.n\n",
        "Probx = Eil51.x\n",
        "Proby = Eil51.y"
      ],
      "execution_count": 4,
      "outputs": []
    },
    {
      "cell_type": "code",
      "metadata": {
        "id": "aGdq8oU9kiv7",
        "colab_type": "code",
        "colab": {}
      },
      "source": [
        "def Domino (n,pl):\n",
        "    D2=np.matrix(np.ones((n+1,n+1)) * np.inf)\n",
        "    for i in range(n):\n",
        "        for j in range(n):\n",
        "            D2[i,j]=D[i,j]\n",
        "    c = np.random.permutation (n)\n",
        "    c = c+1\n",
        "    m=math.ceil(n/pl)\n",
        "    c=np.array(c)\n",
        "    c.resize(pl,m)\n",
        "    I = np.random.randint(1,n+1)\n",
        "    E=[]\n",
        "    E.append(I)\n",
        "    T=[]\n",
        "    T.append(I)\n",
        "    c[c==I] = 0\n",
        "    while sum(sum(c)) > 0:\n",
        "        for i in range(pl):\n",
        "            FromTo = c[i,:]\n",
        "            Dis_E = []\n",
        "            Dis_T = []\n",
        "            for j in range (m):\n",
        "                Dis_E.append(D2[FromTo[j]-1,E[0]-1]) \n",
        "                Dis_T.append(D2[T[-1]-1,FromTo[j]-1])\n",
        "            minE = min(Dis_E)\n",
        "            minT = min(Dis_T)\n",
        "            Id_minE = np.argmin(Dis_E)\n",
        "            Id_minT = np.argmin(Dis_T)\n",
        "            if minE <= minT: \n",
        "                E.insert(0,FromTo[Id_minE])\n",
        "                c[c==FromTo[Id_minE]] = 0\n",
        "            else:\n",
        "                T.append(FromTo[Id_minT])\n",
        "                c[c==FromTo[Id_minT]] = 0\n",
        "    E = np.array(E)\n",
        "    E = E[E!=0]\n",
        "    T = np.array(T)\n",
        "    T = T[T!=0]\n",
        "    E=list(E)\n",
        "    E.pop(-1)\n",
        "    T=list(T)\n",
        "    IS = E+T\n",
        "    IS = (np.array(IS))-1\n",
        "    IS = list(IS)\n",
        "    return IS"
      ],
      "execution_count": 5,
      "outputs": []
    },
    {
      "cell_type": "code",
      "metadata": {
        "id": "9HCklbf5svt-",
        "colab_type": "code",
        "colab": {
          "base_uri": "https://localhost:8080/",
          "height": 72
        },
        "outputId": "2ddcc6d7-be5f-43e1-cdae-3db80f8a649a"
      },
      "source": [
        "Z=Domino(n,2)\n",
        "print(Z)\n",
        "C=Cost(Z,D)\n",
        "print(C)"
      ],
      "execution_count": 17,
      "outputs": [
        {
          "output_type": "stream",
          "text": [
            "[5, 12, 39, 41, 40, 18, 24, 13, 22, 23, 6, 42, 25, 30, 0, 26, 47, 7, 21, 27, 2, 19, 1, 28, 15, 20, 49, 33, 8, 29, 4, 11, 37, 10, 31, 45, 50, 46, 17, 3, 16, 36, 43, 14, 44, 32, 9, 48, 34, 35, 38]\n",
            "646.0\n"
          ],
          "name": "stdout"
        }
      ]
    }
  ]
}