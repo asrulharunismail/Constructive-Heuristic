{
  "nbformat": 4,
  "nbformat_minor": 0,
  "metadata": {
    "colab": {
      "name": "Nearest Neighbour Heuristic.ipynb",
      "provenance": [],
      "authorship_tag": "ABX9TyMPjAJvSXNX+SQw7wtKL5io",
      "include_colab_link": true
    },
    "kernelspec": {
      "name": "python3",
      "display_name": "Python 3"
    }
  },
  "cells": [
    {
      "cell_type": "markdown",
      "metadata": {
        "id": "view-in-github",
        "colab_type": "text"
      },
      "source": [
        "<a href=\"https://colab.research.google.com/github/asrulharunismail/Constructive-Heuristic/blob/master/Nearest_Neighbour_Heuristic.ipynb\" target=\"_parent\"><img src=\"https://colab.research.google.com/assets/colab-badge.svg\" alt=\"Open In Colab\"/></a>"
      ]
    },
    {
      "cell_type": "code",
      "metadata": {
        "id": "4JJy2u1aiDHg",
        "colab_type": "code",
        "colab": {}
      },
      "source": [
        "import numpy as np\n",
        "import math\n",
        "import random"
      ],
      "execution_count": null,
      "outputs": []
    },
    {
      "cell_type": "code",
      "metadata": {
        "id": "grdGyQhTslq9",
        "colab_type": "code",
        "colab": {}
      },
      "source": [
        "class Model:\n",
        "    def __init__(self,x,y):\n",
        "        self.x = x\n",
        "        self.y = y\n",
        "        self.n = len(x)\n",
        "    def Dis (self):\n",
        "        n = self.n\n",
        "        D = []\n",
        "        for i in range (n):\n",
        "            for j in range (n):\n",
        "                D.append(round(np.sqrt((x[i] - x[j]) ** 2 + (y[i] - y[j]) ** 2)))\n",
        "        D=np.array(D)\n",
        "        D=D.reshape(n,n)\n",
        "        return D"
      ],
      "execution_count": null,
      "outputs": []
    },
    {
      "cell_type": "code",
      "metadata": {
        "id": "V9gMc548teem",
        "colab_type": "code",
        "colab": {}
      },
      "source": [
        "def Cost (tour,D):\n",
        "    L=0\n",
        "    for i in range (len(tour)):\n",
        "        if i< len(tour)-1:\n",
        "          L += D[tour[i],tour[i+1]]\n",
        "        else:\n",
        "          L += D[tour[i],tour[0]]\n",
        "    return L"
      ],
      "execution_count": null,
      "outputs": []
    },
    {
      "cell_type": "code",
      "metadata": {
        "id": "jX73_nkRsWEz",
        "colab_type": "code",
        "colab": {}
      },
      "source": [
        "Prob = 'Eil51'\n",
        "x = [37, 49, 52, 20, 40, 21, 17, 31, 52, 51, 42, 31, 5, 12, 36, 52, 27, 17, 13, 57, 62, 42, 16, 8, 7, 27, 30, 43, 58, 58, 37, 38, 46, 61, 62, 63, 32, 45, 59, 5, 10, 21, 5, 30, 39, 32, 25, 25, 48, 56, 30]\n",
        "y = [52, 49, 64, 26, 30, 47, 63, 62, 33, 21, 41, 32, 25, 42, 16, 41, 23, 33, 13, 58, 42, 57, 57, 52, 38, 68, 48, 67, 48, 27, 69, 46, 10, 33, 63, 69, 22, 35, 15, 6, 17, 10, 64, 15, 10, 39, 32, 55, 28, 37, 40]\n",
        "BKS = 426\n",
        "Eil51 = Model(x,y)\n",
        "D=Eil51.Dis()\n",
        "n=Eil51.n\n",
        "Probx = Eil51.x\n",
        "Proby = Eil51.y"
      ],
      "execution_count": null,
      "outputs": []
    },
    {
      "cell_type": "code",
      "metadata": {
        "id": "aGdq8oU9kiv7",
        "colab_type": "code",
        "colab": {}
      },
      "source": [
        "def NSN (n):\n",
        "    s = np.random.randint(n)\n",
        "    D2=D\n",
        "    D2=np.array(D2)\n",
        "    n= len(D2)\n",
        "    IS=[]\n",
        "    IS.append(s)\n",
        "    for i in range(1,n):\n",
        "        s=IS[-1]\n",
        "        D2[s,:] = np.inf\n",
        "        temp = list(D2[:,s])\n",
        "        IS.append(temp.index(min(temp)))\n",
        "    return IS"
      ],
      "execution_count": null,
      "outputs": []
    },
    {
      "cell_type": "code",
      "metadata": {
        "id": "9HCklbf5svt-",
        "colab_type": "code",
        "colab": {
          "base_uri": "https://localhost:8080/",
          "height": 72
        },
        "outputId": "7022e2c6-e50d-4c64-9783-47e2803b27f1"
      },
      "source": [
        "Z=NSN(n)\n",
        "print(Z)\n",
        "C=Cost(Z,D)\n",
        "print(C)"
      ],
      "execution_count": null,
      "outputs": [
        {
          "output_type": "stream",
          "text": [
            "[8, 48, 4, 37, 10, 31, 0, 21, 27, 30, 7, 25, 6, 22, 23, 13, 24, 17, 3, 16, 36, 14, 43, 41, 18, 40, 12, 39, 46, 11, 45, 50, 26, 5, 47, 42, 1, 15, 49, 33, 29, 9, 38, 32, 44, 20, 28, 19, 34, 35, 2]\n",
            "541.0\n"
          ],
          "name": "stdout"
        }
      ]
    }
  ]
}